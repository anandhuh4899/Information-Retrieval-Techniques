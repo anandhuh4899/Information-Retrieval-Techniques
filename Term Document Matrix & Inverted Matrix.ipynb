{
 "cells": [
  {
   "cell_type": "markdown",
   "metadata": {},
   "source": [
    "# Assignment\n",
    "### 1. Draw the term-document incidence matrix and inverted index representation for this collection\n",
    "- **Doc 1 breakthrough drug for schizophrenia**\n",
    "- **Doc 2 new schizophrenia drug**\n",
    "- **Doc 3 new approach for treatment of schizophrenia**\n",
    "- **Doc 4 new hopes for schizophrenia patients**\n",
    "\n",
    "### 2. What are the returned results for these queries?\n",
    "- **schizophrenia and drug**\n",
    "- **Drug or approach**"
   ]
  },
  {
   "cell_type": "code",
   "execution_count": 1,
   "metadata": {},
   "outputs": [],
   "source": [
    "import pandas as pd\n",
    "import numpy as np"
   ]
  },
  {
   "cell_type": "code",
   "execution_count": 2,
   "metadata": {},
   "outputs": [],
   "source": [
    "Doc_1= 'breakthrough drug for schizophrenia'\n",
    "Doc_2= 'new schizophrenia drug'\n",
    "Doc_3= 'new approach for treatment of schizophrenia'\n",
    "Doc_4= 'new hopes for schizophrenia patients'"
   ]
  },
  {
   "cell_type": "code",
   "execution_count": 3,
   "metadata": {},
   "outputs": [
    {
     "data": {
      "text/plain": [
       "['breakthrough drug for schizophrenia',\n",
       " 'new schizophrenia drug',\n",
       " 'new approach for treatment of schizophrenia',\n",
       " 'new hopes for schizophrenia patients']"
      ]
     },
     "execution_count": 3,
     "metadata": {},
     "output_type": "execute_result"
    }
   ],
   "source": [
    "# creating a new list\n",
    "docs = [Doc_1, Doc_2, Doc_3,Doc_4 ]\n",
    "docs"
   ]
  },
  {
   "cell_type": "code",
   "execution_count": 4,
   "metadata": {},
   "outputs": [
    {
     "data": {
      "text/plain": [
       "{'approach',\n",
       " 'breakthrough',\n",
       " 'drug',\n",
       " 'for',\n",
       " 'hopes',\n",
       " 'new',\n",
       " 'of',\n",
       " 'patients',\n",
       " 'schizophrenia',\n",
       " 'treatment'}"
      ]
     },
     "execution_count": 4,
     "metadata": {},
     "output_type": "execute_result"
    }
   ],
   "source": [
    "# Gather the set of all unique terms\n",
    "unique_terms = {term for doc in docs for term in doc.split()}\n",
    "unique_terms"
   ]
  },
  {
   "cell_type": "markdown",
   "metadata": {},
   "source": [
    "### 1.(a) Term-Document Matrix"
   ]
  },
  {
   "cell_type": "code",
   "execution_count": 5,
   "metadata": {},
   "outputs": [
    {
     "data": {
      "text/plain": [
       "{'of': [0, 0, 1, 0],\n",
       " 'drug': [1, 1, 0, 0],\n",
       " 'for': [1, 0, 1, 1],\n",
       " 'treatment': [0, 0, 1, 0],\n",
       " 'patients': [0, 0, 0, 1],\n",
       " 'breakthrough': [1, 0, 0, 0],\n",
       " 'approach': [0, 0, 1, 0],\n",
       " 'schizophrenia': [1, 1, 1, 1],\n",
       " 'hopes': [0, 0, 0, 1],\n",
       " 'new': [0, 1, 1, 1]}"
      ]
     },
     "execution_count": 5,
     "metadata": {},
     "output_type": "execute_result"
    }
   ],
   "source": [
    "# Creating a term-document matrix as a python dictionary\n",
    "\n",
    "term_doc_matrix={}\n",
    "\n",
    "for term in unique_terms:\n",
    "    #setting unique terms as keys & an empty list as value\n",
    "    term_doc_matrix[term]=[]\n",
    "    \n",
    "    for doc in docs:\n",
    "        # append 1 to the list if term is present in the doc, else 0\n",
    "        if term in doc:\n",
    "            term_doc_matrix[term].append(1)\n",
    "        else:\n",
    "            term_doc_matrix[term].append(0)\n",
    "\n",
    "term_doc_matrix"
   ]
  },
  {
   "cell_type": "markdown",
   "metadata": {},
   "source": [
    "- **The query to find all documents containing \"schizophrenia\" AND \"drug\"**"
   ]
  },
  {
   "cell_type": "code",
   "execution_count": 6,
   "metadata": {},
   "outputs": [
    {
     "name": "stdout",
     "output_type": "stream",
     "text": [
      "[1 1 1 1]\n",
      "[1 1 0 0]\n",
      "---------\n",
      "[1 1 0 0]\n"
     ]
    }
   ],
   "source": [
    "docs_array = np.array(docs, dtype='object')\n",
    "\n",
    "v1 = np.array(term_doc_matrix['schizophrenia'])    \n",
    "v2 = np.array(term_doc_matrix['drug'])\n",
    "print(v1)\n",
    "print(v2)\n",
    "print('---------')\n",
    "q1 = v1 & v2\n",
    "print(q1)"
   ]
  },
  {
   "cell_type": "code",
   "execution_count": 7,
   "metadata": {
    "scrolled": true
   },
   "outputs": [
    {
     "data": {
      "text/plain": [
       "['breakthrough drug for schizophrenia', 'new schizophrenia drug']"
      ]
     },
     "execution_count": 7,
     "metadata": {},
     "output_type": "execute_result"
    }
   ],
   "source": [
    "# We can now get the matching documents with the result\n",
    "[doc for doc in q1 * docs_array if doc]"
   ]
  },
  {
   "cell_type": "markdown",
   "metadata": {},
   "source": [
    "- **The query to find all documents containing \"drug\" OR \"approach\"**"
   ]
  },
  {
   "cell_type": "code",
   "execution_count": 8,
   "metadata": {},
   "outputs": [
    {
     "name": "stdout",
     "output_type": "stream",
     "text": [
      "[1 1 0 0]\n",
      "[0 0 1 0]\n",
      "---------\n",
      "[1 1 1 0]\n"
     ]
    }
   ],
   "source": [
    "v3 = np.array(term_doc_matrix['drug'])    \n",
    "v4 = np.array(term_doc_matrix['approach'])\n",
    "print(v3)\n",
    "print(v4)\n",
    "print('---------')\n",
    "q2 = v3 | v4\n",
    "print(q2)"
   ]
  },
  {
   "cell_type": "code",
   "execution_count": 9,
   "metadata": {},
   "outputs": [
    {
     "data": {
      "text/plain": [
       "['breakthrough drug for schizophrenia',\n",
       " 'new schizophrenia drug',\n",
       " 'new approach for treatment of schizophrenia']"
      ]
     },
     "execution_count": 9,
     "metadata": {},
     "output_type": "execute_result"
    }
   ],
   "source": [
    "# We can now get the matching documents with the result\n",
    "[doc for doc in q2 * docs_array if doc]"
   ]
  },
  {
   "cell_type": "markdown",
   "metadata": {},
   "source": [
    "### 1.(b) Inverted Index"
   ]
  },
  {
   "cell_type": "code",
   "execution_count": 10,
   "metadata": {},
   "outputs": [
    {
     "data": {
      "text/plain": [
       "{'breakthrough': {0},\n",
       " 'drug': {0, 1},\n",
       " 'for': {0, 2, 3},\n",
       " 'schizophrenia': {0, 1, 2, 3},\n",
       " 'new': {1, 2, 3},\n",
       " 'approach': {2},\n",
       " 'treatment': {2},\n",
       " 'of': {2},\n",
       " 'hopes': {3},\n",
       " 'patients': {3}}"
      ]
     },
     "execution_count": 10,
     "metadata": {},
     "output_type": "execute_result"
    }
   ],
   "source": [
    "# Construct an inverted index as a dictionary\n",
    "\n",
    "inverted_index = {}\n",
    "\n",
    "for i, doc in enumerate(docs):\n",
    "    for term in doc.split():\n",
    "        if term in inverted_index:\n",
    "            inverted_index[term].add(i)\n",
    "        else:\n",
    "            inverted_index[term] = {i}\n",
    "\n",
    "inverted_index"
   ]
  },
  {
   "cell_type": "markdown",
   "metadata": {},
   "source": [
    "Now we can get posting lists for any term. For example,"
   ]
  },
  {
   "cell_type": "code",
   "execution_count": 11,
   "metadata": {},
   "outputs": [
    {
     "data": {
      "text/plain": [
       "{0, 1, 2, 3}"
      ]
     },
     "execution_count": 11,
     "metadata": {},
     "output_type": "execute_result"
    }
   ],
   "source": [
    "posting_list = inverted_index['schizophrenia']\n",
    "posting_list"
   ]
  },
  {
   "cell_type": "code",
   "execution_count": 12,
   "metadata": {},
   "outputs": [],
   "source": [
    "# We can perform boolean operations on postings lists for Boolean search operations\n",
    "\n",
    "def OR_postings(posting1, posting2):\n",
    "    p1 = 0\n",
    "    p2 = 0\n",
    "    result = list()\n",
    "    while p1 < len(posting1) and p2 < len(posting2):\n",
    "        if posting1[p1] == posting2[p2]:\n",
    "            result.append(posting1[p1])\n",
    "            p1 += 1\n",
    "            p2 += 1\n",
    "        elif posting1[p1] > posting2[p2]:\n",
    "            result.append(posting2[p2])\n",
    "            p2 += 1\n",
    "        else:\n",
    "            result.append(posting1[p1])\n",
    "            p1 += 1\n",
    "    while p1 < len(posting1):\n",
    "        result.append(posting1[p1])\n",
    "        p1 += 1\n",
    "    while p2 < len(posting2):\n",
    "        result.append(posting2[p2])\n",
    "        p2 += 1\n",
    "    return result\n",
    "\n",
    "\n",
    "def AND_postings(posting1, posting2):\n",
    "    p1 = 0\n",
    "    p2 = 0\n",
    "    result = list()\n",
    "    while p1 < len(posting1) and p2 < len(posting2):\n",
    "        if posting1[p1] == posting2[p2]:\n",
    "            result.append(posting1[p1])\n",
    "            p1 += 1\n",
    "            p2 += 1\n",
    "        elif posting1[p1] > posting2[p2]:\n",
    "            p2 += 1\n",
    "        else:\n",
    "            p1 += 1\n",
    "    return result"
   ]
  },
  {
   "cell_type": "markdown",
   "metadata": {},
   "source": [
    "- **The query to find all documents containing \"schizophrenia\" AND \"drug\"**"
   ]
  },
  {
   "cell_type": "code",
   "execution_count": 13,
   "metadata": {
    "scrolled": true
   },
   "outputs": [
    {
     "data": {
      "text/plain": [
       "[0, 1]"
      ]
     },
     "execution_count": 13,
     "metadata": {},
     "output_type": "execute_result"
    }
   ],
   "source": [
    "pl_1 = list(inverted_index['schizophrenia'])\n",
    "pl_2 = list(inverted_index['drug'])\n",
    "AND_postings(pl_1, pl_2)"
   ]
  },
  {
   "cell_type": "code",
   "execution_count": 14,
   "metadata": {
    "scrolled": true
   },
   "outputs": [
    {
     "data": {
      "text/plain": [
       "['breakthrough drug for schizophrenia', 'new schizophrenia drug']"
      ]
     },
     "execution_count": 14,
     "metadata": {},
     "output_type": "execute_result"
    }
   ],
   "source": [
    "# We can now get the matching documents with the result\n",
    "\n",
    "[docs[i] for i in AND_postings(pl_1, pl_2)]"
   ]
  },
  {
   "cell_type": "markdown",
   "metadata": {},
   "source": [
    "- **The query to find all documents containing \"drug\" OR \"approach\"**"
   ]
  },
  {
   "cell_type": "code",
   "execution_count": 15,
   "metadata": {},
   "outputs": [
    {
     "data": {
      "text/plain": [
       "[0, 1, 2]"
      ]
     },
     "execution_count": 15,
     "metadata": {},
     "output_type": "execute_result"
    }
   ],
   "source": [
    "pl_3 = list(inverted_index['drug'])\n",
    "pl_4 = list(inverted_index['approach'])\n",
    "OR_postings(pl_3, pl_4)"
   ]
  },
  {
   "cell_type": "code",
   "execution_count": 16,
   "metadata": {},
   "outputs": [
    {
     "data": {
      "text/plain": [
       "['breakthrough drug for schizophrenia',\n",
       " 'new schizophrenia drug',\n",
       " 'new approach for treatment of schizophrenia']"
      ]
     },
     "execution_count": 16,
     "metadata": {},
     "output_type": "execute_result"
    }
   ],
   "source": [
    "# We can now get the matching documents with the result\n",
    "\n",
    "[docs[i] for i in OR_postings(pl_3, pl_4)]"
   ]
  }
 ],
 "metadata": {
  "kernelspec": {
   "display_name": "Python 3",
   "language": "python",
   "name": "python3"
  },
  "language_info": {
   "codemirror_mode": {
    "name": "ipython",
    "version": 3
   },
   "file_extension": ".py",
   "mimetype": "text/x-python",
   "name": "python",
   "nbconvert_exporter": "python",
   "pygments_lexer": "ipython3",
   "version": "3.8.5"
  }
 },
 "nbformat": 4,
 "nbformat_minor": 4
}
